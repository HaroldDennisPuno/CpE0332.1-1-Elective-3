{
  "nbformat": 4,
  "nbformat_minor": 0,
  "metadata": {
    "colab": {
      "provenance": [],
      "authorship_tag": "ABX9TyNwvLVRLp8ewzTFIXLEVGl3",
      "include_colab_link": true
    },
    "kernelspec": {
      "name": "python3",
      "display_name": "Python 3"
    },
    "language_info": {
      "name": "python"
    }
  },
  "cells": [
    {
      "cell_type": "markdown",
      "metadata": {
        "id": "view-in-github",
        "colab_type": "text"
      },
      "source": [
        "<a href=\"https://colab.research.google.com/github/HaroldDennisPuno/CpE0332.1-1-Elective-3/blob/main/Data_Structure.ipynb\" target=\"_parent\"><img src=\"https://colab.research.google.com/assets/colab-badge.svg\" alt=\"Open In Colab\"/></a>"
      ]
    },
    {
      "cell_type": "markdown",
      "source": [
        "List"
      ],
      "metadata": {
        "id": "je9oEKS0-oSE"
      }
    },
    {
      "cell_type": "code",
      "source": [
        "pi = 3.14159\n",
        "varList =[1,2, \"A\", \"B\", \"Hello\", pi]\n",
        "\n",
        "print(varList[0])\n",
        "\n",
        "print(varList[4])\n",
        "\n",
        "varList.append(\"World!\")\n",
        "print(varList[6])\n",
        "\n",
        "len(varList)\n",
        "\n",
        "print(varList[5])\n",
        "\n",
        "varList.remove(pi)\n",
        "print(varList[5])"
      ],
      "metadata": {
        "colab": {
          "base_uri": "https://localhost:8080/"
        },
        "id": "mv0qNI2uCVrj",
        "outputId": "667c6bc8-11ba-484c-9673-108bebf2f1b8"
      },
      "execution_count": null,
      "outputs": [
        {
          "output_type": "stream",
          "name": "stdout",
          "text": [
            "1\n",
            "Hello\n",
            "World!\n",
            "3.14159\n",
            "World!\n"
          ]
        }
      ]
    },
    {
      "cell_type": "code",
      "execution_count": null,
      "metadata": {
        "colab": {
          "base_uri": "https://localhost:8080/"
        },
        "id": "gLNJSJLg-irH",
        "outputId": "dfada046-9eb5-49c6-9485-3e801ffd1e9c"
      },
      "outputs": [
        {
          "output_type": "stream",
          "name": "stdout",
          "text": [
            "(['Apple'], ['Bapple'], ['Capple'])\n",
            "['Apple']\n",
            "(['Apple'], ['Bapple'], ['Capple'])\n",
            "(['Apple'], ['Bapple'])\n",
            "['apple', 'bapple', 'trapple']\n"
          ]
        }
      ],
      "source": [
        "#Test Codes for Slicing\n",
        "python = [\"Apple\"],[\"Bapple\"],[\"Capple\"]\n",
        "c = [\"apple\",\"bapple\",\"trapple\"]\n",
        "#note that list(start:end:step)\n",
        "print(python[0:]) #Displays Everything\n",
        "print(python[0]) #Displays the first in the list\n",
        "print(python[0:3]) #Displays everything from first to last\n",
        "print(python[0:2])\n",
        "\n",
        "print(c)"
      ]
    },
    {
      "cell_type": "markdown",
      "source": [
        "Dictionaries"
      ],
      "metadata": {
        "id": "D-kX4KJU_Eab"
      }
    },
    {
      "cell_type": "code",
      "source": [
        "var = \"Hello World\"\n",
        "varDict = {\"first\" : 123, 2 :\"abc\", \"3\" : var, 4 : [\"lista\", \"listb\"]}\n",
        "print(varDict[\"first\"])\n",
        "print(varDict['3'])\n",
        "print(varDict[4])\n",
        "print(varDict[4][1])\n",
        "(len(varDict))"
      ],
      "metadata": {
        "colab": {
          "base_uri": "https://localhost:8080/"
        },
        "id": "jYQyg3Fj_FO1",
        "outputId": "7df2089f-62e2-41dc-b0a5-ab36c3f01b06"
      },
      "execution_count": null,
      "outputs": [
        {
          "output_type": "stream",
          "name": "stdout",
          "text": [
            "123\n",
            "Hello World\n",
            "['lista', 'listb']\n",
            "listb\n"
          ]
        },
        {
          "output_type": "execute_result",
          "data": {
            "text/plain": [
              "4"
            ]
          },
          "metadata": {},
          "execution_count": 46
        }
      ]
    },
    {
      "cell_type": "markdown",
      "source": [
        "List Generators and Comprehension"
      ],
      "metadata": {
        "id": "Qz7_wMHC_FYT"
      }
    },
    {
      "cell_type": "code",
      "source": [
        "def gen_num_up_to(n):\n",
        "  num = 0\n",
        "  while num < n:\n",
        "    yield num\n",
        "    num += 1\n",
        "\n",
        "gen_num_up_to(5) #generator object\n",
        "\n",
        "varList = gen_num_up_to(5)# generates variables from 0 to 5 (0 the first variable)\n",
        "print([var for var in varList])"
      ],
      "metadata": {
        "colab": {
          "base_uri": "https://localhost:8080/"
        },
        "id": "cE6rgnQHFz48",
        "outputId": "e6db9193-88a7-4115-bab3-c8772a742229"
      },
      "execution_count": null,
      "outputs": [
        {
          "output_type": "stream",
          "name": "stdout",
          "text": [
            "[0, 1, 2, 3, 4]\n"
          ]
        }
      ]
    },
    {
      "cell_type": "code",
      "source": [
        "def gen_num_up_to(n):\n",
        "  num = 0\n",
        "  while num < n:\n",
        "    yield num\n",
        "    num += 2\n",
        "\n",
        "varList = gen_num_up_to(5)\n",
        "print([var for var in varList])\n",
        "\n"
      ],
      "metadata": {
        "colab": {
          "base_uri": "https://localhost:8080/"
        },
        "id": "pfQy2TEEGW1k",
        "outputId": "e06ab033-cd25-4dfa-db71-5456cc07c2b4"
      },
      "execution_count": null,
      "outputs": [
        {
          "output_type": "stream",
          "name": "stdout",
          "text": [
            "[0, 2, 4]\n"
          ]
        }
      ]
    },
    {
      "cell_type": "code",
      "source": [
        "varList = range(0,5,2)\n",
        "print([var for var in varList])"
      ],
      "metadata": {
        "colab": {
          "base_uri": "https://localhost:8080/"
        },
        "id": "ocRj0dDPGhkL",
        "outputId": "6859825d-e8d1-4215-925b-04da7ccb9403"
      },
      "execution_count": null,
      "outputs": [
        {
          "output_type": "stream",
          "name": "stdout",
          "text": [
            "[0, 2, 4]\n"
          ]
        }
      ]
    },
    {
      "cell_type": "markdown",
      "source": [
        "Slicing"
      ],
      "metadata": {
        "id": "a_4Ypk5DHGfE"
      }
    },
    {
      "cell_type": "code",
      "source": [
        "varList = [1, 2, 3, 4, 5, 6, 7, 8, 9, 10]\n",
        "print(varList[:5])\n",
        "print(varList[5:])\n",
        "print(varList[:-2])\n",
        "print(varList[-2:])\n",
        "print(varList[2:-2])\n",
        "print(varList[2:8:2])"
      ],
      "metadata": {
        "colab": {
          "base_uri": "https://localhost:8080/"
        },
        "id": "wt4E-vCjHGEc",
        "outputId": "bc852466-6ec6-4f38-aa03-9ab431cb2523"
      },
      "execution_count": null,
      "outputs": [
        {
          "output_type": "stream",
          "name": "stdout",
          "text": [
            "[1, 2, 3, 4, 5]\n",
            "[6, 7, 8, 9, 10]\n",
            "[1, 2, 3, 4, 5, 6, 7, 8]\n",
            "[9, 10]\n",
            "[3, 4, 5, 6, 7, 8]\n",
            "[3, 5, 7]\n"
          ]
        }
      ]
    }
  ]
}