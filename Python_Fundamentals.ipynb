{
  "nbformat": 4,
  "nbformat_minor": 0,
  "metadata": {
    "colab": {
      "provenance": [],
      "authorship_tag": "ABX9TyOXq5572ZmUyehTpOJ2q30J",
      "include_colab_link": true
    },
    "kernelspec": {
      "name": "python3",
      "display_name": "Python 3"
    },
    "language_info": {
      "name": "python"
    }
  },
  "cells": [
    {
      "cell_type": "markdown",
      "metadata": {
        "id": "view-in-github",
        "colab_type": "text"
      },
      "source": [
        "<a href=\"https://colab.research.google.com/github/HaroldDennisPuno/CpE0332.1-1-Elective-3/blob/main/Python_Fundamentals.ipynb\" target=\"_parent\"><img src=\"https://colab.research.google.com/assets/colab-badge.svg\" alt=\"Open In Colab\"/></a>"
      ]
    },
    {
      "cell_type": "markdown",
      "source": [
        "Python Indentation"
      ],
      "metadata": {
        "id": "fSppFhjnjJcm"
      }
    },
    {
      "cell_type": "code",
      "execution_count": null,
      "metadata": {
        "colab": {
          "base_uri": "https://localhost:8080/"
        },
        "id": "fz0tKdvWfV8k",
        "outputId": "7f650fe4-832a-4cc7-bd3d-a486f86e13de"
      },
      "outputs": [
        {
          "output_type": "stream",
          "name": "stdout",
          "text": [
            "Five is greater than two!\n"
          ]
        }
      ],
      "source": [
        "if 5>2:\n",
        "  print(\"Five is greater than two!\")\n",
        "\n"
      ]
    },
    {
      "cell_type": "code",
      "source": [
        "x = 5\n",
        "y = 2\n",
        "\n",
        "if x > y:\n",
        "  print(\"Five is greater than two\")"
      ],
      "metadata": {
        "colab": {
          "base_uri": "https://localhost:8080/"
        },
        "id": "AkMTr8nrkYdD",
        "outputId": "ee82efe6-abab-4e00-e469-33f64f349c2b"
      },
      "execution_count": null,
      "outputs": [
        {
          "output_type": "stream",
          "name": "stdout",
          "text": [
            "Five is greater than two\n"
          ]
        }
      ]
    },
    {
      "cell_type": "markdown",
      "source": [
        "Python Comment"
      ],
      "metadata": {
        "id": "fKak45FwkiGP"
      }
    },
    {
      "cell_type": "code",
      "source": [
        "#This is a python comment\n",
        "print(\"Hello World\")"
      ],
      "metadata": {
        "colab": {
          "base_uri": "https://localhost:8080/"
        },
        "id": "cXudH-Wphuyj",
        "outputId": "0aafdb94-53a9-4678-9d28-3663011b04e4"
      },
      "execution_count": null,
      "outputs": [
        {
          "output_type": "stream",
          "name": "stdout",
          "text": [
            "Hello World\n"
          ]
        }
      ]
    },
    {
      "cell_type": "markdown",
      "source": [
        "Python Variable"
      ],
      "metadata": {
        "id": "hyw2quAAku9y"
      }
    },
    {
      "cell_type": "code",
      "source": [
        "z = 1\n",
        "z, s = 0, -1\n",
        "print(z)"
      ],
      "metadata": {
        "colab": {
          "base_uri": "https://localhost:8080/"
        },
        "id": "CKbsx7vckqPn",
        "outputId": "5ff574c8-0245-4aae-da18-df980e1d875b"
      },
      "execution_count": null,
      "outputs": [
        {
          "output_type": "stream",
          "name": "stdout",
          "text": [
            "0\n"
          ]
        }
      ]
    },
    {
      "cell_type": "markdown",
      "source": [
        "Casting"
      ],
      "metadata": {
        "id": "iytGax1BmFHy"
      }
    },
    {
      "cell_type": "code",
      "source": [
        "b = \"Sally\" #This is a string\n",
        "b = int(4)\n",
        "b"
      ],
      "metadata": {
        "colab": {
          "base_uri": "https://localhost:8080/"
        },
        "id": "RcL6CiQCmDKD",
        "outputId": "82dcfc86-fd55-4724-e3f4-2d26a6c80c2b"
      },
      "execution_count": null,
      "outputs": [
        {
          "output_type": "execute_result",
          "data": {
            "text/plain": [
              "4"
            ]
          },
          "metadata": {},
          "execution_count": 12
        }
      ]
    },
    {
      "cell_type": "markdown",
      "source": [
        "Type()  Function"
      ],
      "metadata": {
        "id": "Pdu6eVQ7mD_7"
      }
    },
    {
      "cell_type": "code",
      "source": [
        "print(type(b))\n"
      ],
      "metadata": {
        "colab": {
          "base_uri": "https://localhost:8080/"
        },
        "id": "9VI_8uOTmpfc",
        "outputId": "962526cd-1021-4530-8d46-e25be5fecebe"
      },
      "execution_count": null,
      "outputs": [
        {
          "output_type": "stream",
          "name": "stdout",
          "text": [
            "<class 'int'>\n"
          ]
        }
      ]
    },
    {
      "cell_type": "markdown",
      "source": [
        "Double Quotes and Single Quotes"
      ],
      "metadata": {
        "id": "_vaEHVvMmVO_"
      }
    },
    {
      "cell_type": "code",
      "source": [
        "w = \"Ana\"\n",
        "print(w)\n",
        "q = 'Ana'\n"
      ],
      "metadata": {
        "colab": {
          "base_uri": "https://localhost:8080/"
        },
        "id": "H_OwHGTAm_5m",
        "outputId": "536b3827-aedf-46e6-8474-1d41c3b08e54"
      },
      "execution_count": null,
      "outputs": [
        {
          "output_type": "stream",
          "name": "stdout",
          "text": [
            "Ana\n"
          ]
        }
      ]
    },
    {
      "cell_type": "markdown",
      "source": [
        "Case Sensitive"
      ],
      "metadata": {
        "id": "Rr5xHCdAnbt0"
      }
    },
    {
      "cell_type": "code",
      "source": [
        "a = int(4)\n",
        "A = \"Sally\"\n",
        "\n",
        "print(a)\n",
        "print(A)"
      ],
      "metadata": {
        "colab": {
          "base_uri": "https://localhost:8080/"
        },
        "id": "zjTca_Gzna4s",
        "outputId": "15e28359-3684-4d3a-cc33-aa40f3b474fd"
      },
      "execution_count": null,
      "outputs": [
        {
          "output_type": "stream",
          "name": "stdout",
          "text": [
            "4\n",
            "Sally\n"
          ]
        }
      ]
    },
    {
      "cell_type": "markdown",
      "source": [
        "Multiple Variables"
      ],
      "metadata": {
        "id": "Kj1yR9nmoITc"
      }
    },
    {
      "cell_type": "code",
      "source": [
        "h,i,j = \"one\", \"two\",\"three\"\n",
        "print(h)\n",
        "print(i)\n",
        "print(j)"
      ],
      "metadata": {
        "colab": {
          "base_uri": "https://localhost:8080/"
        },
        "id": "dOOVpdVBoJX5",
        "outputId": "5c0999d0-bf4a-4123-d088-5903905c37eb"
      },
      "execution_count": null,
      "outputs": [
        {
          "output_type": "stream",
          "name": "stdout",
          "text": [
            "one\n",
            "two\n",
            "three\n"
          ]
        }
      ]
    },
    {
      "cell_type": "markdown",
      "source": [
        "Multiple Variables with Single Value"
      ],
      "metadata": {
        "id": "Gwpk9RpFoXVO"
      }
    },
    {
      "cell_type": "code",
      "source": [
        "k = l = m = \"four\"\n",
        "print(k)\n",
        "print(l)\n",
        "print(m)"
      ],
      "metadata": {
        "colab": {
          "base_uri": "https://localhost:8080/"
        },
        "id": "DNPyiEUmoWxX",
        "outputId": "bbc8853f-5664-48dd-975b-958fb75c9bc2"
      },
      "execution_count": null,
      "outputs": [
        {
          "output_type": "stream",
          "name": "stdout",
          "text": [
            "four\n",
            "four\n",
            "four\n"
          ]
        }
      ]
    },
    {
      "cell_type": "markdown",
      "source": [
        "Output Variable and Concatenation"
      ],
      "metadata": {
        "id": "qDHc96JjpKEE"
      }
    },
    {
      "cell_type": "code",
      "source": [
        "n = \"enjoying\"\n",
        "print(\"Python programming is\" + \" \" + n)\n"
      ],
      "metadata": {
        "colab": {
          "base_uri": "https://localhost:8080/"
        },
        "id": "NxxA-hLnpMKq",
        "outputId": "4d33314a-09df-406f-de72-19a3ae10ae03"
      },
      "execution_count": null,
      "outputs": [
        {
          "output_type": "stream",
          "name": "stdout",
          "text": [
            "Python programming is enjoying\n"
          ]
        }
      ]
    },
    {
      "cell_type": "markdown",
      "source": [
        "Arithmetic Operations"
      ],
      "metadata": {
        "id": "6mhRUX15vM-Q"
      }
    },
    {
      "cell_type": "code",
      "source": [
        "x = 3\n",
        "y = 2\n",
        "\n",
        "print(x + y) #Addition\n",
        "print(x - y) #Subtraction\n",
        "print(x * y) #Multiplication\n",
        "print(x / y) #Division\n",
        "print(x // y) #Floor Division\n",
        "print(x % y) # Modulus\n",
        "\n"
      ],
      "metadata": {
        "colab": {
          "base_uri": "https://localhost:8080/"
        },
        "id": "N0VoC7FLvPXo",
        "outputId": "4afaf6eb-3cb4-4a00-ea8a-7faf1e953356"
      },
      "execution_count": 29,
      "outputs": [
        {
          "output_type": "stream",
          "name": "stdout",
          "text": [
            "5\n",
            "1\n",
            "6\n",
            "1.5\n",
            "1\n",
            "1\n"
          ]
        }
      ]
    },
    {
      "cell_type": "markdown",
      "source": [
        "Assignment Operators"
      ],
      "metadata": {
        "id": "2ZbEaMoywfYr"
      }
    },
    {
      "cell_type": "code",
      "source": [
        "x += 3 #same as x = x + 3\n",
        "print(x)"
      ],
      "metadata": {
        "colab": {
          "base_uri": "https://localhost:8080/"
        },
        "id": "kY7KsSI7wgoL",
        "outputId": "8c4d5677-5f75-4f5e-bfb6-ae867d4c4122"
      },
      "execution_count": 31,
      "outputs": [
        {
          "output_type": "stream",
          "name": "stdout",
          "text": [
            "9\n"
          ]
        }
      ]
    },
    {
      "cell_type": "markdown",
      "source": [
        "Comparison Operator"
      ],
      "metadata": {
        "id": "ZMwN2ZKcxeWz"
      }
    },
    {
      "cell_type": "code",
      "source": [
        "print(x==y) #x=3, y=2\n",
        "print(x!=y)\n",
        "print(x>y)\n",
        "print(x<y)"
      ],
      "metadata": {
        "colab": {
          "base_uri": "https://localhost:8080/"
        },
        "id": "AL2nWMd5xd2c",
        "outputId": "b68c5138-d563-4459-cb8a-3c2632306c38"
      },
      "execution_count": 34,
      "outputs": [
        {
          "output_type": "stream",
          "name": "stdout",
          "text": [
            "False\n",
            "True\n",
            "True\n",
            "False\n"
          ]
        }
      ]
    },
    {
      "cell_type": "markdown",
      "source": [
        "Logical Operators"
      ],
      "metadata": {
        "id": "sRAZKlf5x9cY"
      }
    },
    {
      "cell_type": "code",
      "source": [
        "print(x==y and x!=y) #Flase and True\n",
        "print(x==y or x!=y) #False or True\n",
        "print(not(x==y or x!=y)) #Negates(Flase or True)"
      ],
      "metadata": {
        "colab": {
          "base_uri": "https://localhost:8080/"
        },
        "id": "aYMcJRf2x-y4",
        "outputId": "b3ce4937-4518-4a47-b971-9ec941393f3b"
      },
      "execution_count": 38,
      "outputs": [
        {
          "output_type": "stream",
          "name": "stdout",
          "text": [
            "False\n",
            "True\n",
            "False\n"
          ]
        }
      ]
    },
    {
      "cell_type": "markdown",
      "source": [
        "Identity Operators"
      ],
      "metadata": {
        "id": "YlJKnhBnzZiI"
      }
    },
    {
      "cell_type": "code",
      "source": [
        "x is y #x=3, y=2\n",
        "x is not y"
      ],
      "metadata": {
        "colab": {
          "base_uri": "https://localhost:8080/"
        },
        "id": "Z2Y35ISyzaeG",
        "outputId": "7b369337-60c5-475c-d8ca-c6c7e3d8c92d"
      },
      "execution_count": 39,
      "outputs": [
        {
          "output_type": "execute_result",
          "data": {
            "text/plain": [
              "True"
            ]
          },
          "metadata": {},
          "execution_count": 39
        }
      ]
    },
    {
      "cell_type": "markdown",
      "source": [
        "Bitwise Operators"
      ],
      "metadata": {
        "id": "xs_Bw-h5zdq9"
      }
    },
    {
      "cell_type": "code",
      "source": [
        "#10 + 1 = 11 ; 1010 + 0001 = 1011\n",
        "print(10 & 1)\n",
        "\n",
        "print(x>>1) #x=3, 011\n"
      ],
      "metadata": {
        "colab": {
          "base_uri": "https://localhost:8080/"
        },
        "id": "0ImcRlYUzef1",
        "outputId": "5c868f15-950f-4234-b56c-4463cd279c1c"
      },
      "execution_count": 43,
      "outputs": [
        {
          "output_type": "stream",
          "name": "stdout",
          "text": [
            "0\n",
            "4\n"
          ]
        }
      ]
    },
    {
      "cell_type": "markdown",
      "source": [
        "Application 1"
      ],
      "metadata": {
        "id": "fSkeJMRO04i1"
      }
    },
    {
      "cell_type": "code",
      "source": [
        "#Create a Python program that displays your Fullname, Course and Section, and your Course and Section"
      ],
      "metadata": {
        "id": "DjDjvXD_04B9"
      },
      "execution_count": 44,
      "outputs": []
    },
    {
      "cell_type": "code",
      "source": [
        "fullname =str(input(\"What is your Full name? \"))\n",
        "age = int(input(\"What is your age? \"))\n",
        "course = str(input(\"What is your current course? \"))\n",
        "section = str(input(\"What is your section number? \"))\n",
        "\n",
        "print(\"\\n\")\n",
        "\n",
        "print(\"My fullname is \" + fullname + \" \")\n",
        "print(\"My current age is \" + str(age) + \" years old \")\n",
        "print(\"I am a \" + course + \" Student \" + \"and I am under the section of block \" + section)"
      ],
      "metadata": {
        "colab": {
          "base_uri": "https://localhost:8080/"
        },
        "id": "13UMmGQX1SG1",
        "outputId": "218c316c-4f5d-4e55-ba1e-5a598bd4d9ec"
      },
      "execution_count": 67,
      "outputs": [
        {
          "output_type": "stream",
          "name": "stdout",
          "text": [
            "What is your Full name? Harold Dennis R. Puno\n",
            "What is your age? 21\n",
            "What is your current course? Computer Engineering\n",
            "What is your section number? 1\n",
            "\n",
            "\n",
            "My fullname is Harold Dennis R. Puno \n",
            "My current age is 21 years old \n",
            "I am a Computer Engineering Student and I am under the section of block 1\n"
          ]
        }
      ]
    }
  ]
}