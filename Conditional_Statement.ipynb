{
  "nbformat": 4,
  "nbformat_minor": 0,
  "metadata": {
    "colab": {
      "provenance": [],
      "authorship_tag": "ABX9TyPZUxJIg4wnKeGjmHoMwXoM",
      "include_colab_link": true
    },
    "kernelspec": {
      "name": "python3",
      "display_name": "Python 3"
    },
    "language_info": {
      "name": "python"
    }
  },
  "cells": [
    {
      "cell_type": "markdown",
      "metadata": {
        "id": "view-in-github",
        "colab_type": "text"
      },
      "source": [
        "<a href=\"https://colab.research.google.com/github/HaroldDennisPuno/CpE0332.1-1-Elective-3/blob/main/Conditional_Statement.ipynb\" target=\"_parent\"><img src=\"https://colab.research.google.com/assets/colab-badge.svg\" alt=\"Open In Colab\"/></a>"
      ]
    },
    {
      "cell_type": "markdown",
      "source": [
        "If Statement"
      ],
      "metadata": {
        "id": "ONkYedtoCSue"
      }
    },
    {
      "cell_type": "code",
      "execution_count": 3,
      "metadata": {
        "colab": {
          "base_uri": "https://localhost:8080/"
        },
        "id": "kWe61CNtCSKm",
        "outputId": "cab1dae6-3a0a-4cad-9d7d-607657522e07"
      },
      "outputs": [
        {
          "output_type": "stream",
          "name": "stdout",
          "text": [
            "a is less than b\n"
          ]
        }
      ],
      "source": [
        "a = 12\n",
        "b = 100\n",
        "\n",
        "if a > b:\n",
        "  print(\"a is greater than b\")\n",
        "elif a == b:\n",
        "  print(\"a is equal to b\")\n",
        "else:\n",
        "  print(\"a is less than b\")\n"
      ]
    },
    {
      "cell_type": "markdown",
      "source": [
        "Elif Statement"
      ],
      "metadata": {
        "id": "6zp9N0OxDIYC"
      }
    },
    {
      "cell_type": "code",
      "source": [
        "age = int(input(\"What is your age? \"))\n",
        "\n",
        "if age >= 18:\n",
        "  print(\"You are qualified to get a license\")\n",
        "elif age < 18:\n",
        "  print(\"You are not qualified to get a license\")"
      ],
      "metadata": {
        "colab": {
          "base_uri": "https://localhost:8080/"
        },
        "id": "fEbnzCdvDLLJ",
        "outputId": "630dfaf8-88df-43c9-bb11-9ff950fc13c9"
      },
      "execution_count": 8,
      "outputs": [
        {
          "output_type": "stream",
          "name": "stdout",
          "text": [
            "What is your age? 19\n",
            "You are qualified to get a license\n"
          ]
        }
      ]
    },
    {
      "cell_type": "markdown",
      "source": [
        "Else Statement"
      ],
      "metadata": {
        "id": "g1ADnn4JEkoQ"
      }
    },
    {
      "cell_type": "code",
      "source": [
        "x = int(input(\"Enter a integer \"))\n",
        "\n",
        "if x > 0:\n",
        "  print(\"Positive Number\")\n",
        "elif x < 0:\n",
        "  print(\"Negative Number\")\n",
        "else:\n",
        "  print(\"Zero\")"
      ],
      "metadata": {
        "colab": {
          "base_uri": "https://localhost:8080/"
        },
        "id": "YChT3iYSEmS4",
        "outputId": "33d17da1-4711-42ba-b1a2-45424a206b95"
      },
      "execution_count": 11,
      "outputs": [
        {
          "output_type": "stream",
          "name": "stdout",
          "text": [
            "Enter a integer 0\n",
            "Zero\n"
          ]
        }
      ]
    },
    {
      "cell_type": "markdown",
      "source": [
        "Short Hand IF Statement"
      ],
      "metadata": {
        "id": "O494LvOrFV33"
      }
    },
    {
      "cell_type": "code",
      "source": [
        "a = 100\n",
        "b = 100\n",
        "\n",
        "if a < b: print(\"a is less than b\")\n",
        "if a > b: print(\"a is greater than b\")\n",
        "if a == b: print(\"a is equal to b\")\n"
      ],
      "metadata": {
        "colab": {
          "base_uri": "https://localhost:8080/"
        },
        "id": "itJFSmgWFYgu",
        "outputId": "b524ffe0-8613-4cf0-9d0b-1504f56fc201"
      },
      "execution_count": 18,
      "outputs": [
        {
          "output_type": "stream",
          "name": "stdout",
          "text": [
            "a is equal to b\n"
          ]
        }
      ]
    },
    {
      "cell_type": "markdown",
      "source": [
        "Short Hand If Else statement"
      ],
      "metadata": {
        "id": "GSOaJAeYFtTY"
      }
    },
    {
      "cell_type": "code",
      "source": [
        "a = 2\n",
        "b = 330\n",
        "print(\"a\")if a > b else print(\"b\")"
      ],
      "metadata": {
        "colab": {
          "base_uri": "https://localhost:8080/"
        },
        "id": "PWMoEvMEFvKG",
        "outputId": "2f4fbd73-3ae3-412a-fdce-b31c70291d66"
      },
      "execution_count": 21,
      "outputs": [
        {
          "output_type": "stream",
          "name": "stdout",
          "text": [
            "b\n"
          ]
        }
      ]
    },
    {
      "cell_type": "markdown",
      "source": [
        "And Statement"
      ],
      "metadata": {
        "id": "7DIdY-fiGV6Y"
      }
    },
    {
      "cell_type": "code",
      "source": [
        "c = 500\n",
        "if a < b and c > a:\n",
        "  print (\"Both statements are true\")"
      ],
      "metadata": {
        "colab": {
          "base_uri": "https://localhost:8080/"
        },
        "id": "YU3QW3EzGdDV",
        "outputId": "b212f609-2ba8-46de-e8b3-df3f949dc0ab"
      },
      "execution_count": 20,
      "outputs": [
        {
          "output_type": "stream",
          "name": "stdout",
          "text": [
            "Both statements are true\n"
          ]
        }
      ]
    },
    {
      "cell_type": "markdown",
      "source": [
        "Or Statement"
      ],
      "metadata": {
        "id": "aS_kiigcHFu3"
      }
    },
    {
      "cell_type": "code",
      "source": [
        "a = 2\n",
        "b = 330\n",
        "c = 500\n",
        "\n",
        "if a > b or c > a: #needs both of the statement to be false to print the else condition, if any is true then it will print the first condition\n",
        "  print(\"Both statements are true\")\n",
        "else:\n",
        "  print(\"One statement is false\")"
      ],
      "metadata": {
        "colab": {
          "base_uri": "https://localhost:8080/"
        },
        "id": "fTOfYJoSHILG",
        "outputId": "54fd53ea-e1d7-4498-b4ef-a7e9f0c7248a"
      },
      "execution_count": 32,
      "outputs": [
        {
          "output_type": "stream",
          "name": "stdout",
          "text": [
            "Both statements are true\n"
          ]
        }
      ]
    },
    {
      "cell_type": "markdown",
      "source": [
        "Nested If Statement"
      ],
      "metadata": {
        "id": "ARWDle6SH1lm"
      }
    },
    {
      "cell_type": "code",
      "source": [
        "x = int(input(\"Enter your integer \"))\n",
        "\n",
        "if x > 10:\n",
        "  print(\"above 10\")\n",
        "if x > 20:\n",
        "  print(\"and above 20\")\n",
        "if x > 30:\n",
        "  print(\"and above 30\")\n",
        "if x > 40:\n",
        "  print(\"and above 40\")\n",
        "else:\n",
        "  print(\"\")\n",
        "\n"
      ],
      "metadata": {
        "colab": {
          "base_uri": "https://localhost:8080/"
        },
        "id": "r5lhqaRDH3pV",
        "outputId": "e1e87071-20bd-4355-cf0d-cbed0ad69807"
      },
      "execution_count": 39,
      "outputs": [
        {
          "output_type": "stream",
          "name": "stdout",
          "text": [
            "Enter your 20\n",
            "above 10\n"
          ]
        }
      ]
    },
    {
      "cell_type": "markdown",
      "source": [
        "Application 2\n",
        "\n",
        "\n",
        "\n",
        "\t\tWrite a program to determine the grades are\n",
        "        If:\n",
        "        grade > = 75 , “Passed”​\n",
        "\t\tgrade = 74, “Remedial”​\n",
        "\t\tgrade < 74, “Failed”​\n",
        "\t\tnote: if grade is a negative number, it will not accepted"
      ],
      "metadata": {
        "id": "Yx90PpjeK5kn"
      }
    },
    {
      "cell_type": "code",
      "source": [
        "grade = float(input(\"Enter your grade: \"))\n",
        "\n",
        "if grade >= 75:\n",
        "  if grade > 100:\n",
        "    print(\"You have entered an invalid number!\")\n",
        "  else:\n",
        "    print(\"You have passed!\")\n",
        "\n",
        "elif grade == 74:\n",
        "   print(\"You need to take a remedial.\")\n",
        "\n",
        "else:\n",
        "  if grade < 0:\n",
        "    print(\"You have entered a negative number, it is not accepted.\")\n",
        "  else:\n",
        "    print(\"You have failed.\")"
      ],
      "metadata": {
        "colab": {
          "base_uri": "https://localhost:8080/",
          "height": 228
        },
        "id": "7Qo7NTM7K-CF",
        "outputId": "ed0b512f-dcba-4a48-c07c-814dfd2ec4ce"
      },
      "execution_count": 82,
      "outputs": [
        {
          "name": "stdout",
          "output_type": "stream",
          "text": [
            "Enter your grade: helloo\n"
          ]
        },
        {
          "output_type": "error",
          "ename": "TypeError",
          "evalue": "'>=' not supported between instances of 'str' and 'int'",
          "traceback": [
            "\u001b[0;31m---------------------------------------------------------------------------\u001b[0m",
            "\u001b[0;31mTypeError\u001b[0m                                 Traceback (most recent call last)",
            "\u001b[0;32m<ipython-input-82-88b90153fb8e>\u001b[0m in \u001b[0;36m<cell line: 3>\u001b[0;34m()\u001b[0m\n\u001b[1;32m      1\u001b[0m \u001b[0mgrade\u001b[0m \u001b[0;34m=\u001b[0m \u001b[0;34m(\u001b[0m\u001b[0minput\u001b[0m\u001b[0;34m(\u001b[0m\u001b[0;34m\"Enter your grade: \"\u001b[0m\u001b[0;34m)\u001b[0m\u001b[0;34m)\u001b[0m\u001b[0;34m\u001b[0m\u001b[0;34m\u001b[0m\u001b[0m\n\u001b[1;32m      2\u001b[0m \u001b[0;34m\u001b[0m\u001b[0m\n\u001b[0;32m----> 3\u001b[0;31m \u001b[0;32mif\u001b[0m \u001b[0mgrade\u001b[0m \u001b[0;34m>=\u001b[0m \u001b[0;36m75\u001b[0m\u001b[0;34m:\u001b[0m\u001b[0;34m\u001b[0m\u001b[0;34m\u001b[0m\u001b[0m\n\u001b[0m\u001b[1;32m      4\u001b[0m   \u001b[0;32mif\u001b[0m \u001b[0mgrade\u001b[0m \u001b[0;34m>\u001b[0m \u001b[0;36m100\u001b[0m\u001b[0;34m:\u001b[0m\u001b[0;34m\u001b[0m\u001b[0;34m\u001b[0m\u001b[0m\n\u001b[1;32m      5\u001b[0m     \u001b[0mprint\u001b[0m\u001b[0;34m(\u001b[0m\u001b[0;34m\"You have entered an invalid number!\"\u001b[0m\u001b[0;34m)\u001b[0m\u001b[0;34m\u001b[0m\u001b[0;34m\u001b[0m\u001b[0m\n",
            "\u001b[0;31mTypeError\u001b[0m: '>=' not supported between instances of 'str' and 'int'"
          ]
        }
      ]
    },
    {
      "cell_type": "markdown",
      "source": [],
      "metadata": {
        "id": "I4VqbDF0LynZ"
      }
    }
  ]
}